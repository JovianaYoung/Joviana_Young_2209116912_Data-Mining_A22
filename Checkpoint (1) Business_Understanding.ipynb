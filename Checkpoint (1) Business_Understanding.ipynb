{
  "nbformat": 4,
  "nbformat_minor": 0,
  "metadata": {
    "colab": {
      "provenance": [],
      "authorship_tag": "ABX9TyPu7Gldwf3h7d2G/LfDTLah",
      "include_colab_link": true
    },
    "kernelspec": {
      "name": "python3",
      "display_name": "Python 3"
    },
    "language_info": {
      "name": "python"
    }
  },
  "cells": [
    {
      "cell_type": "markdown",
      "metadata": {
        "id": "view-in-github",
        "colab_type": "text"
      },
      "source": [
        "<a href=\"https://colab.research.google.com/github/JovianaYoung/Joviana_Young_2209116912_Data-Mining_A22/blob/main/Checkpoint%20(1)%20Business_Understanding.ipynb\" target=\"_parent\"><img src=\"https://colab.research.google.com/assets/colab-badge.svg\" alt=\"Open In Colab\"/></a>"
      ]
    },
    {
      "cell_type": "markdown",
      "source": [
        "#Prediksi Harga Handphone\n",
        "###Business Understanding\n",
        "\n",
        "\n",
        "*  **Business Objective**\n",
        "######Tujuan bisnis dari dataset ini adalah untuk memahami masalah bisnis agar dapat meningkatkan akurasi prediksi harga handphone, membantu dalam pengambilan keputusan bisnis, serta untuk memberikan informasi yang lebih akurat bagi pelanggan.\n",
        "*  **Assess Situation**\n",
        "######Situasi bisnis yang mendasari adalah ketidakakuratan pada estimasi harga handphone yang mengakibatkan harga yang ditawarkan tidak sesuai dengan semestinya.\n",
        "\n",
        "*  **Data Mining Goals**\n",
        "######Tujuan dari Data Mining pada dataset ini adalah untuk dapat memprediksi harga handphone dan dapat memberikan informasi kepada pelanggan mengenai harga handphone yang sesuai.\n",
        "*  **Project Plan**\n",
        "######Rencana proyek untuk menganalisis dataset dimulai dengan mengumpulkan data terlebih dahulu. Selanjutnya, data akan diidentifikasi sesuai dengan karakteristiknya. Setelah itu, dilakukan analisis data  untuk menemukan hubungan antar variabel. Selain itu, kualitas data juga akan dievaluasi, dan masalah data akan diatasi pada tahap selanjutnya. Tahap ini sangat penting untuk memastikan kesuksesan pada analisis data.\n",
        "\n",
        "\n"
      ],
      "metadata": {
        "id": "efZo8ODf_lSF"
      }
    }
  ]
}