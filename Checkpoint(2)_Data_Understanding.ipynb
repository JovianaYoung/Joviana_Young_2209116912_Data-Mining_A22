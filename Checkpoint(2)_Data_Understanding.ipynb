{
  "cells": [
    {
      "cell_type": "markdown",
      "metadata": {
        "id": "view-in-github",
        "colab_type": "text"
      },
      "source": [
        "<a href=\"https://colab.research.google.com/github/JovianaYoung/Joviana_Young_2209116912_Data-Mining_A22/blob/main/Checkpoint(2)_Data_Understanding.ipynb\" target=\"_parent\"><img src=\"https://colab.research.google.com/assets/colab-badge.svg\" alt=\"Open In Colab\"/></a>"
      ]
    },
    {
      "cell_type": "markdown",
      "metadata": {
        "id": "h3AZjxo2ZxS6"
      },
      "source": [
        "# **ANALISIS PREDIKSI HARGA HANDPHONE**"
      ]
    },
    {
      "cell_type": "markdown",
      "metadata": {
        "id": "JNBmfbIjWxgM"
      },
      "source": [
        "#**Import Library**"
      ]
    },
    {
      "cell_type": "code",
      "execution_count": null,
      "metadata": {
        "id": "JsnHJGLtW06a"
      },
      "outputs": [],
      "source": [
        "import numpy as np\n",
        "import pandas as pd\n",
        "import matplotlib.pyplot as plt\n",
        "import seaborn as sns\n",
        "import plotly.express as px\n",
        "import linecache\n",
        "from sklearn import linear_model\n",
        "%matplotlib inline"
      ]
    },
    {
      "cell_type": "markdown",
      "metadata": {
        "id": "NjuQhrNyZtm3"
      },
      "source": [
        "#**BUSINESS UNDERSTANDING**"
      ]
    },
    {
      "cell_type": "markdown",
      "metadata": {
        "id": "qzSZy2KwZ4zx"
      },
      "source": [
        "##**Business Objective**"
      ]
    },
    {
      "cell_type": "markdown",
      "metadata": {
        "id": "hU2-bH_KZ8Ge"
      },
      "source": [
        "Tujuan bisnis dari dataset ini adalah untuk memahami masalah bisnis agar dapat meningkatkan akurasi prediksi harga handphone, membantu dalam pengambilan keputusan bisnis, serta untuk memberikan informasi yang lebih akurat bagi pelanggan."
      ]
    },
    {
      "cell_type": "markdown",
      "metadata": {
        "id": "3dTYY-qjZ_Yz"
      },
      "source": [
        "##**Assess Situation**"
      ]
    },
    {
      "cell_type": "markdown",
      "metadata": {
        "id": "3mI7ZTjDaGnC"
      },
      "source": [
        "Situasi bisnis yang mendasari adalah ketidakakuratan pada estimasi harga handphone yang mengakibatkan harga yang ditawarkan tidak sesuai dengan semestinya."
      ]
    },
    {
      "cell_type": "markdown",
      "metadata": {
        "id": "Tqvpt5r-aJKs"
      },
      "source": [
        "##**Data Mining Goals**"
      ]
    },
    {
      "cell_type": "markdown",
      "metadata": {
        "id": "GXsyNC0zaO-o"
      },
      "source": [
        "Tujuan dari Data Mining pada dataset ini adalah untuk dapat memprediksi harga handphone dan dapat memberikan informasi kepada pelanggan mengenai harga handphone yang sesuai."
      ]
    },
    {
      "cell_type": "markdown",
      "metadata": {
        "id": "78Yvo7Q9aRTt"
      },
      "source": [
        "##**Project Plan**"
      ]
    },
    {
      "cell_type": "markdown",
      "metadata": {
        "id": "H0uheBdyaUfH"
      },
      "source": [
        "Rencana proyek untuk menganalisis dataset dimulai dengan mengumpulkan data terlebih dahulu. Selanjutnya, data akan diidentifikasi sesuai dengan karakteristiknya. Setelah itu, dilakukan analisis data  untuk menemukan hubungan antar variabel. Selain itu, kualitas data juga akan dievaluasi, dan masalah data akan diatasi pada tahap selanjutnya. Tahap ini sangat penting untuk memastikan kesuksesan pada analisis data."
      ]
    },
    {
      "cell_type": "markdown",
      "metadata": {
        "id": "8yFrLpBtZXuy"
      },
      "source": [
        "#**DATA UNDERSTANDING**"
      ]
    },
    {
      "cell_type": "markdown",
      "metadata": {
        "id": "tjm5LzEuT0oe"
      },
      "source": [
        "##**Collect Initial Data**"
      ]
    },
    {
      "cell_type": "markdown",
      "metadata": {
        "id": "SsIGird1UBw8"
      },
      "source": [
        "Sumber data berikut dari kaggle.\n",
        "Berikut Linknya:\n",
        "https://www.kaggle.com/datasets/rkiattisak/mobile-phone-price"
      ]
    },
    {
      "cell_type": "code",
      "execution_count": null,
      "metadata": {
        "colab": {
          "base_uri": "https://localhost:8080/",
          "height": 206
        },
        "id": "3ncBfThxSpiL",
        "outputId": "a1f5d407-3371-43fc-dca9-4d37b4181ffa"
      },
      "outputs": [
        {
          "output_type": "execute_result",
          "data": {
            "text/plain": [
              "     Brand              Model Storage    RAM  Screen Size (inches)  \\\n",
              "0    Apple      iPhone 13 Pro   128 GB   6 GB                  6.1   \n",
              "1  Samsung   Galaxy S21 Ultra   256 GB  12 GB                  6.8   \n",
              "2  OnePlus              9 Pro   128 GB   8 GB                  6.7   \n",
              "3   Xiaomi  Redmi Note 10 Pro   128 GB   6 GB                 6.67   \n",
              "4   Google            Pixel 6   128 GB   8 GB                  6.4   \n",
              "\n",
              "          Camera (MP)  Battery Capacity (mAh) Price ($)  \n",
              "0        12 + 12 + 12                    3095       999  \n",
              "1  108 + 10 + 10 + 12                    5000      1199  \n",
              "2     48 + 50 + 8 + 2                    4500       899  \n",
              "3      64 + 8 + 5 + 2                    5020       279  \n",
              "4           50 + 12.2                    4614       799  "
            ],
            "text/html": [
              "\n",
              "  <div id=\"df-87af2324-9bf3-477a-b187-1d299ed598fe\" class=\"colab-df-container\">\n",
              "    <div>\n",
              "<style scoped>\n",
              "    .dataframe tbody tr th:only-of-type {\n",
              "        vertical-align: middle;\n",
              "    }\n",
              "\n",
              "    .dataframe tbody tr th {\n",
              "        vertical-align: top;\n",
              "    }\n",
              "\n",
              "    .dataframe thead th {\n",
              "        text-align: right;\n",
              "    }\n",
              "</style>\n",
              "<table border=\"1\" class=\"dataframe\">\n",
              "  <thead>\n",
              "    <tr style=\"text-align: right;\">\n",
              "      <th></th>\n",
              "      <th>Brand</th>\n",
              "      <th>Model</th>\n",
              "      <th>Storage</th>\n",
              "      <th>RAM</th>\n",
              "      <th>Screen Size (inches)</th>\n",
              "      <th>Camera (MP)</th>\n",
              "      <th>Battery Capacity (mAh)</th>\n",
              "      <th>Price ($)</th>\n",
              "    </tr>\n",
              "  </thead>\n",
              "  <tbody>\n",
              "    <tr>\n",
              "      <th>0</th>\n",
              "      <td>Apple</td>\n",
              "      <td>iPhone 13 Pro</td>\n",
              "      <td>128 GB</td>\n",
              "      <td>6 GB</td>\n",
              "      <td>6.1</td>\n",
              "      <td>12 + 12 + 12</td>\n",
              "      <td>3095</td>\n",
              "      <td>999</td>\n",
              "    </tr>\n",
              "    <tr>\n",
              "      <th>1</th>\n",
              "      <td>Samsung</td>\n",
              "      <td>Galaxy S21 Ultra</td>\n",
              "      <td>256 GB</td>\n",
              "      <td>12 GB</td>\n",
              "      <td>6.8</td>\n",
              "      <td>108 + 10 + 10 + 12</td>\n",
              "      <td>5000</td>\n",
              "      <td>1199</td>\n",
              "    </tr>\n",
              "    <tr>\n",
              "      <th>2</th>\n",
              "      <td>OnePlus</td>\n",
              "      <td>9 Pro</td>\n",
              "      <td>128 GB</td>\n",
              "      <td>8 GB</td>\n",
              "      <td>6.7</td>\n",
              "      <td>48 + 50 + 8 + 2</td>\n",
              "      <td>4500</td>\n",
              "      <td>899</td>\n",
              "    </tr>\n",
              "    <tr>\n",
              "      <th>3</th>\n",
              "      <td>Xiaomi</td>\n",
              "      <td>Redmi Note 10 Pro</td>\n",
              "      <td>128 GB</td>\n",
              "      <td>6 GB</td>\n",
              "      <td>6.67</td>\n",
              "      <td>64 + 8 + 5 + 2</td>\n",
              "      <td>5020</td>\n",
              "      <td>279</td>\n",
              "    </tr>\n",
              "    <tr>\n",
              "      <th>4</th>\n",
              "      <td>Google</td>\n",
              "      <td>Pixel 6</td>\n",
              "      <td>128 GB</td>\n",
              "      <td>8 GB</td>\n",
              "      <td>6.4</td>\n",
              "      <td>50 + 12.2</td>\n",
              "      <td>4614</td>\n",
              "      <td>799</td>\n",
              "    </tr>\n",
              "  </tbody>\n",
              "</table>\n",
              "</div>\n",
              "    <div class=\"colab-df-buttons\">\n",
              "\n",
              "  <div class=\"colab-df-container\">\n",
              "    <button class=\"colab-df-convert\" onclick=\"convertToInteractive('df-87af2324-9bf3-477a-b187-1d299ed598fe')\"\n",
              "            title=\"Convert this dataframe to an interactive table.\"\n",
              "            style=\"display:none;\">\n",
              "\n",
              "  <svg xmlns=\"http://www.w3.org/2000/svg\" height=\"24px\" viewBox=\"0 -960 960 960\">\n",
              "    <path d=\"M120-120v-720h720v720H120Zm60-500h600v-160H180v160Zm220 220h160v-160H400v160Zm0 220h160v-160H400v160ZM180-400h160v-160H180v160Zm440 0h160v-160H620v160ZM180-180h160v-160H180v160Zm440 0h160v-160H620v160Z\"/>\n",
              "  </svg>\n",
              "    </button>\n",
              "\n",
              "  <style>\n",
              "    .colab-df-container {\n",
              "      display:flex;\n",
              "      gap: 12px;\n",
              "    }\n",
              "\n",
              "    .colab-df-convert {\n",
              "      background-color: #E8F0FE;\n",
              "      border: none;\n",
              "      border-radius: 50%;\n",
              "      cursor: pointer;\n",
              "      display: none;\n",
              "      fill: #1967D2;\n",
              "      height: 32px;\n",
              "      padding: 0 0 0 0;\n",
              "      width: 32px;\n",
              "    }\n",
              "\n",
              "    .colab-df-convert:hover {\n",
              "      background-color: #E2EBFA;\n",
              "      box-shadow: 0px 1px 2px rgba(60, 64, 67, 0.3), 0px 1px 3px 1px rgba(60, 64, 67, 0.15);\n",
              "      fill: #174EA6;\n",
              "    }\n",
              "\n",
              "    .colab-df-buttons div {\n",
              "      margin-bottom: 4px;\n",
              "    }\n",
              "\n",
              "    [theme=dark] .colab-df-convert {\n",
              "      background-color: #3B4455;\n",
              "      fill: #D2E3FC;\n",
              "    }\n",
              "\n",
              "    [theme=dark] .colab-df-convert:hover {\n",
              "      background-color: #434B5C;\n",
              "      box-shadow: 0px 1px 3px 1px rgba(0, 0, 0, 0.15);\n",
              "      filter: drop-shadow(0px 1px 2px rgba(0, 0, 0, 0.3));\n",
              "      fill: #FFFFFF;\n",
              "    }\n",
              "  </style>\n",
              "\n",
              "    <script>\n",
              "      const buttonEl =\n",
              "        document.querySelector('#df-87af2324-9bf3-477a-b187-1d299ed598fe button.colab-df-convert');\n",
              "      buttonEl.style.display =\n",
              "        google.colab.kernel.accessAllowed ? 'block' : 'none';\n",
              "\n",
              "      async function convertToInteractive(key) {\n",
              "        const element = document.querySelector('#df-87af2324-9bf3-477a-b187-1d299ed598fe');\n",
              "        const dataTable =\n",
              "          await google.colab.kernel.invokeFunction('convertToInteractive',\n",
              "                                                    [key], {});\n",
              "        if (!dataTable) return;\n",
              "\n",
              "        const docLinkHtml = 'Like what you see? Visit the ' +\n",
              "          '<a target=\"_blank\" href=https://colab.research.google.com/notebooks/data_table.ipynb>data table notebook</a>'\n",
              "          + ' to learn more about interactive tables.';\n",
              "        element.innerHTML = '';\n",
              "        dataTable['output_type'] = 'display_data';\n",
              "        await google.colab.output.renderOutput(dataTable, element);\n",
              "        const docLink = document.createElement('div');\n",
              "        docLink.innerHTML = docLinkHtml;\n",
              "        element.appendChild(docLink);\n",
              "      }\n",
              "    </script>\n",
              "  </div>\n",
              "\n",
              "\n",
              "<div id=\"df-cb743d3c-b0d3-48e7-a61b-67f0e3e2c1eb\">\n",
              "  <button class=\"colab-df-quickchart\" onclick=\"quickchart('df-cb743d3c-b0d3-48e7-a61b-67f0e3e2c1eb')\"\n",
              "            title=\"Suggest charts\"\n",
              "            style=\"display:none;\">\n",
              "\n",
              "<svg xmlns=\"http://www.w3.org/2000/svg\" height=\"24px\"viewBox=\"0 0 24 24\"\n",
              "     width=\"24px\">\n",
              "    <g>\n",
              "        <path d=\"M19 3H5c-1.1 0-2 .9-2 2v14c0 1.1.9 2 2 2h14c1.1 0 2-.9 2-2V5c0-1.1-.9-2-2-2zM9 17H7v-7h2v7zm4 0h-2V7h2v10zm4 0h-2v-4h2v4z\"/>\n",
              "    </g>\n",
              "</svg>\n",
              "  </button>\n",
              "\n",
              "<style>\n",
              "  .colab-df-quickchart {\n",
              "      --bg-color: #E8F0FE;\n",
              "      --fill-color: #1967D2;\n",
              "      --hover-bg-color: #E2EBFA;\n",
              "      --hover-fill-color: #174EA6;\n",
              "      --disabled-fill-color: #AAA;\n",
              "      --disabled-bg-color: #DDD;\n",
              "  }\n",
              "\n",
              "  [theme=dark] .colab-df-quickchart {\n",
              "      --bg-color: #3B4455;\n",
              "      --fill-color: #D2E3FC;\n",
              "      --hover-bg-color: #434B5C;\n",
              "      --hover-fill-color: #FFFFFF;\n",
              "      --disabled-bg-color: #3B4455;\n",
              "      --disabled-fill-color: #666;\n",
              "  }\n",
              "\n",
              "  .colab-df-quickchart {\n",
              "    background-color: var(--bg-color);\n",
              "    border: none;\n",
              "    border-radius: 50%;\n",
              "    cursor: pointer;\n",
              "    display: none;\n",
              "    fill: var(--fill-color);\n",
              "    height: 32px;\n",
              "    padding: 0;\n",
              "    width: 32px;\n",
              "  }\n",
              "\n",
              "  .colab-df-quickchart:hover {\n",
              "    background-color: var(--hover-bg-color);\n",
              "    box-shadow: 0 1px 2px rgba(60, 64, 67, 0.3), 0 1px 3px 1px rgba(60, 64, 67, 0.15);\n",
              "    fill: var(--button-hover-fill-color);\n",
              "  }\n",
              "\n",
              "  .colab-df-quickchart-complete:disabled,\n",
              "  .colab-df-quickchart-complete:disabled:hover {\n",
              "    background-color: var(--disabled-bg-color);\n",
              "    fill: var(--disabled-fill-color);\n",
              "    box-shadow: none;\n",
              "  }\n",
              "\n",
              "  .colab-df-spinner {\n",
              "    border: 2px solid var(--fill-color);\n",
              "    border-color: transparent;\n",
              "    border-bottom-color: var(--fill-color);\n",
              "    animation:\n",
              "      spin 1s steps(1) infinite;\n",
              "  }\n",
              "\n",
              "  @keyframes spin {\n",
              "    0% {\n",
              "      border-color: transparent;\n",
              "      border-bottom-color: var(--fill-color);\n",
              "      border-left-color: var(--fill-color);\n",
              "    }\n",
              "    20% {\n",
              "      border-color: transparent;\n",
              "      border-left-color: var(--fill-color);\n",
              "      border-top-color: var(--fill-color);\n",
              "    }\n",
              "    30% {\n",
              "      border-color: transparent;\n",
              "      border-left-color: var(--fill-color);\n",
              "      border-top-color: var(--fill-color);\n",
              "      border-right-color: var(--fill-color);\n",
              "    }\n",
              "    40% {\n",
              "      border-color: transparent;\n",
              "      border-right-color: var(--fill-color);\n",
              "      border-top-color: var(--fill-color);\n",
              "    }\n",
              "    60% {\n",
              "      border-color: transparent;\n",
              "      border-right-color: var(--fill-color);\n",
              "    }\n",
              "    80% {\n",
              "      border-color: transparent;\n",
              "      border-right-color: var(--fill-color);\n",
              "      border-bottom-color: var(--fill-color);\n",
              "    }\n",
              "    90% {\n",
              "      border-color: transparent;\n",
              "      border-bottom-color: var(--fill-color);\n",
              "    }\n",
              "  }\n",
              "</style>\n",
              "\n",
              "  <script>\n",
              "    async function quickchart(key) {\n",
              "      const quickchartButtonEl =\n",
              "        document.querySelector('#' + key + ' button');\n",
              "      quickchartButtonEl.disabled = true;  // To prevent multiple clicks.\n",
              "      quickchartButtonEl.classList.add('colab-df-spinner');\n",
              "      try {\n",
              "        const charts = await google.colab.kernel.invokeFunction(\n",
              "            'suggestCharts', [key], {});\n",
              "      } catch (error) {\n",
              "        console.error('Error during call to suggestCharts:', error);\n",
              "      }\n",
              "      quickchartButtonEl.classList.remove('colab-df-spinner');\n",
              "      quickchartButtonEl.classList.add('colab-df-quickchart-complete');\n",
              "    }\n",
              "    (() => {\n",
              "      let quickchartButtonEl =\n",
              "        document.querySelector('#df-cb743d3c-b0d3-48e7-a61b-67f0e3e2c1eb button');\n",
              "      quickchartButtonEl.style.display =\n",
              "        google.colab.kernel.accessAllowed ? 'block' : 'none';\n",
              "    })();\n",
              "  </script>\n",
              "</div>\n",
              "    </div>\n",
              "  </div>\n"
            ],
            "application/vnd.google.colaboratory.intrinsic+json": {
              "type": "dataframe",
              "variable_name": "df",
              "summary": "{\n  \"name\": \"df\",\n  \"rows\": 407,\n  \"fields\": [\n    {\n      \"column\": \"Brand\",\n      \"properties\": {\n        \"dtype\": \"category\",\n        \"num_unique_values\": 16,\n        \"samples\": [\n          \"Apple\",\n          \"Samsung\",\n          \"Oppo\"\n        ],\n        \"semantic_type\": \"\",\n        \"description\": \"\"\n      }\n    },\n    {\n      \"column\": \"Model\",\n      \"properties\": {\n        \"dtype\": \"string\",\n        \"num_unique_values\": 239,\n        \"samples\": [\n          \"Redmi Note 10 Pro Max\",\n          \"Galaxy Z Flip3\",\n          \"Velvet 5G\"\n        ],\n        \"semantic_type\": \"\",\n        \"description\": \"\"\n      }\n    },\n    {\n      \"column\": \"Storage \",\n      \"properties\": {\n        \"dtype\": \"category\",\n        \"num_unique_values\": 13,\n        \"samples\": [\n          \"512\",\n          \"64\",\n          \"128 GB\"\n        ],\n        \"semantic_type\": \"\",\n        \"description\": \"\"\n      }\n    },\n    {\n      \"column\": \"RAM \",\n      \"properties\": {\n        \"dtype\": \"category\",\n        \"num_unique_values\": 20,\n        \"samples\": [\n          \"6 GB\",\n          \"4\",\n          \"6\"\n        ],\n        \"semantic_type\": \"\",\n        \"description\": \"\"\n      }\n    },\n    {\n      \"column\": \"Screen Size (inches)\",\n      \"properties\": {\n        \"dtype\": \"category\",\n        \"num_unique_values\": 41,\n        \"samples\": [\n          \"5.5\",\n          \"6.6\",\n          \"6.5\"\n        ],\n        \"semantic_type\": \"\",\n        \"description\": \"\"\n      }\n    },\n    {\n      \"column\": \"Camera (MP)\",\n      \"properties\": {\n        \"dtype\": \"category\",\n        \"num_unique_values\": 143,\n        \"samples\": [\n          \"50+8+16+2\",\n          \"108 + 8 + 5 + 2\",\n          \"48MP + 5MP + 2MP + 2MP\"\n        ],\n        \"semantic_type\": \"\",\n        \"description\": \"\"\n      }\n    },\n    {\n      \"column\": \"Battery Capacity (mAh)\",\n      \"properties\": {\n        \"dtype\": \"number\",\n        \"std\": 797,\n        \"min\": 1821,\n        \"max\": 7000,\n        \"num_unique_values\": 48,\n        \"samples\": [\n          5050,\n          3174,\n          4950\n        ],\n        \"semantic_type\": \"\",\n        \"description\": \"\"\n      }\n    },\n    {\n      \"column\": \"Price ($)\",\n      \"properties\": {\n        \"dtype\": \"category\",\n        \"num_unique_values\": 89,\n        \"samples\": [\n          \"$319 \",\n          \"$139 \",\n          \"1299\"\n        ],\n        \"semantic_type\": \"\",\n        \"description\": \"\"\n      }\n    }\n  ]\n}"
            }
          },
          "metadata": {},
          "execution_count": 48
        }
      ],
      "source": [
        "df = pd.read_csv(\"https://raw.githubusercontent.com/JovianaYoung/Joviana_Young_2209116912_Data-Mining_A22/main/Mobile%20phone%20price.csv\")\n",
        "df.head()"
      ]
    },
    {
      "cell_type": "markdown",
      "metadata": {
        "id": "-hy6_uvIVOGH"
      },
      "source": [
        "##**Describe Data**"
      ]
    },
    {
      "cell_type": "markdown",
      "metadata": {
        "id": "nl6nccPmUZ6F"
      },
      "source": [
        "####Informasi Dasar"
      ]
    },
    {
      "cell_type": "code",
      "execution_count": null,
      "metadata": {
        "colab": {
          "base_uri": "https://localhost:8080/"
        },
        "id": "zEyDvT0EUcB2",
        "outputId": "3156ff50-7566-47cd-9722-3f044ba5d153"
      },
      "outputs": [
        {
          "output_type": "execute_result",
          "data": {
            "text/plain": [
              "(407, 8)"
            ]
          },
          "metadata": {},
          "execution_count": 49
        }
      ],
      "source": [
        "df.shape"
      ]
    },
    {
      "cell_type": "markdown",
      "metadata": {
        "id": "ZwH62IRTVXNL"
      },
      "source": [
        "Dari describe data informasi dasar yang telah ditampilkan diatas dapat ditarik kesimpulan bahwa pada dataframe diatas memiliki 407 baris dan 8 kolom."
      ]
    },
    {
      "cell_type": "markdown",
      "metadata": {
        "id": "BXEzaPAHVMPd"
      },
      "source": [
        "####Informasi Lanjutan"
      ]
    },
    {
      "cell_type": "code",
      "execution_count": null,
      "metadata": {
        "colab": {
          "base_uri": "https://localhost:8080/"
        },
        "id": "L1CvPak8VHOF",
        "outputId": "3a678b2b-35f5-4572-94d5-196874a88437"
      },
      "outputs": [
        {
          "output_type": "stream",
          "name": "stdout",
          "text": [
            "<class 'pandas.core.frame.DataFrame'>\n",
            "RangeIndex: 407 entries, 0 to 406\n",
            "Data columns (total 8 columns):\n",
            " #   Column                  Non-Null Count  Dtype \n",
            "---  ------                  --------------  ----- \n",
            " 0   Brand                   407 non-null    object\n",
            " 1   Model                   407 non-null    object\n",
            " 2   Storage                 407 non-null    object\n",
            " 3   RAM                     407 non-null    object\n",
            " 4   Screen Size (inches)    407 non-null    object\n",
            " 5   Camera (MP)             407 non-null    object\n",
            " 6   Battery Capacity (mAh)  407 non-null    int64 \n",
            " 7   Price ($)               407 non-null    object\n",
            "dtypes: int64(1), object(7)\n",
            "memory usage: 25.6+ KB\n"
          ]
        }
      ],
      "source": [
        "df.info()"
      ]
    },
    {
      "cell_type": "markdown",
      "metadata": {
        "id": "-6miym5GVbaC"
      },
      "source": [
        "Dari describe data informasi lanjutan yang telah ditampilkan diatas dapat ditarik kesimpulan bahwa terdapat 8 kolom dengan penjelasan detail berikut ini:\n",
        "1. Nama kolom : Brand\n",
        "jumlah data : 407\n",
        "Tipe data : object\n",
        "2. Nama kolom : Model\n",
        "jumlah data : 407\n",
        "Tipe data : object\n",
        "3. Nama kolom : Storage\n",
        "jumlah data : 407\n",
        "Tipe data : object\n",
        "4. Nama kolom : RAM\n",
        "jumlah data : 407\n",
        "Tipe data : object\n",
        "5. Nama kolom : Screen Size\n",
        "jumlah data : 407\n",
        "Tipe data : object\n",
        "6. Nama kolom : Camera\n",
        "jumlah data : 407\n",
        "Tipe data : object\n",
        "7. Nama kolom : Baterai Capacity\n",
        "jumlah data : 407\n",
        "Tipe data : int\n",
        "8. Nama kolom : Price\n",
        "jumlah data : 407\n",
        "Tipe data : object\n",
        "\n",
        "Dapat dilihat dari penjelasan diatas bahwa hanya kolom Baterai Capacity yang memiliki tipe data integer, dikarenakan data belum dilakukan proses data cleaning pada dataset tersebut."
      ]
    },
    {
      "cell_type": "markdown",
      "metadata": {
        "id": "D5GD3qzXVrF5"
      },
      "source": [
        "####Informasi Statistik Deskriptif"
      ]
    },
    {
      "cell_type": "code",
      "execution_count": null,
      "metadata": {
        "colab": {
          "base_uri": "https://localhost:8080/",
          "height": 300
        },
        "id": "rHdqc2OkVuPC",
        "outputId": "2aecd0ad-f1d3-40d8-ff6e-cbe3e19e1e9b"
      },
      "outputs": [
        {
          "output_type": "execute_result",
          "data": {
            "text/plain": [
              "       Battery Capacity (mAh)\n",
              "count              407.000000\n",
              "mean              4676.476658\n",
              "std                797.193713\n",
              "min               1821.000000\n",
              "25%               4300.000000\n",
              "50%               5000.000000\n",
              "75%               5000.000000\n",
              "max               7000.000000"
            ],
            "text/html": [
              "\n",
              "  <div id=\"df-f8189484-35b6-4878-9ff0-cf9870cacd98\" class=\"colab-df-container\">\n",
              "    <div>\n",
              "<style scoped>\n",
              "    .dataframe tbody tr th:only-of-type {\n",
              "        vertical-align: middle;\n",
              "    }\n",
              "\n",
              "    .dataframe tbody tr th {\n",
              "        vertical-align: top;\n",
              "    }\n",
              "\n",
              "    .dataframe thead th {\n",
              "        text-align: right;\n",
              "    }\n",
              "</style>\n",
              "<table border=\"1\" class=\"dataframe\">\n",
              "  <thead>\n",
              "    <tr style=\"text-align: right;\">\n",
              "      <th></th>\n",
              "      <th>Battery Capacity (mAh)</th>\n",
              "    </tr>\n",
              "  </thead>\n",
              "  <tbody>\n",
              "    <tr>\n",
              "      <th>count</th>\n",
              "      <td>407.000000</td>\n",
              "    </tr>\n",
              "    <tr>\n",
              "      <th>mean</th>\n",
              "      <td>4676.476658</td>\n",
              "    </tr>\n",
              "    <tr>\n",
              "      <th>std</th>\n",
              "      <td>797.193713</td>\n",
              "    </tr>\n",
              "    <tr>\n",
              "      <th>min</th>\n",
              "      <td>1821.000000</td>\n",
              "    </tr>\n",
              "    <tr>\n",
              "      <th>25%</th>\n",
              "      <td>4300.000000</td>\n",
              "    </tr>\n",
              "    <tr>\n",
              "      <th>50%</th>\n",
              "      <td>5000.000000</td>\n",
              "    </tr>\n",
              "    <tr>\n",
              "      <th>75%</th>\n",
              "      <td>5000.000000</td>\n",
              "    </tr>\n",
              "    <tr>\n",
              "      <th>max</th>\n",
              "      <td>7000.000000</td>\n",
              "    </tr>\n",
              "  </tbody>\n",
              "</table>\n",
              "</div>\n",
              "    <div class=\"colab-df-buttons\">\n",
              "\n",
              "  <div class=\"colab-df-container\">\n",
              "    <button class=\"colab-df-convert\" onclick=\"convertToInteractive('df-f8189484-35b6-4878-9ff0-cf9870cacd98')\"\n",
              "            title=\"Convert this dataframe to an interactive table.\"\n",
              "            style=\"display:none;\">\n",
              "\n",
              "  <svg xmlns=\"http://www.w3.org/2000/svg\" height=\"24px\" viewBox=\"0 -960 960 960\">\n",
              "    <path d=\"M120-120v-720h720v720H120Zm60-500h600v-160H180v160Zm220 220h160v-160H400v160Zm0 220h160v-160H400v160ZM180-400h160v-160H180v160Zm440 0h160v-160H620v160ZM180-180h160v-160H180v160Zm440 0h160v-160H620v160Z\"/>\n",
              "  </svg>\n",
              "    </button>\n",
              "\n",
              "  <style>\n",
              "    .colab-df-container {\n",
              "      display:flex;\n",
              "      gap: 12px;\n",
              "    }\n",
              "\n",
              "    .colab-df-convert {\n",
              "      background-color: #E8F0FE;\n",
              "      border: none;\n",
              "      border-radius: 50%;\n",
              "      cursor: pointer;\n",
              "      display: none;\n",
              "      fill: #1967D2;\n",
              "      height: 32px;\n",
              "      padding: 0 0 0 0;\n",
              "      width: 32px;\n",
              "    }\n",
              "\n",
              "    .colab-df-convert:hover {\n",
              "      background-color: #E2EBFA;\n",
              "      box-shadow: 0px 1px 2px rgba(60, 64, 67, 0.3), 0px 1px 3px 1px rgba(60, 64, 67, 0.15);\n",
              "      fill: #174EA6;\n",
              "    }\n",
              "\n",
              "    .colab-df-buttons div {\n",
              "      margin-bottom: 4px;\n",
              "    }\n",
              "\n",
              "    [theme=dark] .colab-df-convert {\n",
              "      background-color: #3B4455;\n",
              "      fill: #D2E3FC;\n",
              "    }\n",
              "\n",
              "    [theme=dark] .colab-df-convert:hover {\n",
              "      background-color: #434B5C;\n",
              "      box-shadow: 0px 1px 3px 1px rgba(0, 0, 0, 0.15);\n",
              "      filter: drop-shadow(0px 1px 2px rgba(0, 0, 0, 0.3));\n",
              "      fill: #FFFFFF;\n",
              "    }\n",
              "  </style>\n",
              "\n",
              "    <script>\n",
              "      const buttonEl =\n",
              "        document.querySelector('#df-f8189484-35b6-4878-9ff0-cf9870cacd98 button.colab-df-convert');\n",
              "      buttonEl.style.display =\n",
              "        google.colab.kernel.accessAllowed ? 'block' : 'none';\n",
              "\n",
              "      async function convertToInteractive(key) {\n",
              "        const element = document.querySelector('#df-f8189484-35b6-4878-9ff0-cf9870cacd98');\n",
              "        const dataTable =\n",
              "          await google.colab.kernel.invokeFunction('convertToInteractive',\n",
              "                                                    [key], {});\n",
              "        if (!dataTable) return;\n",
              "\n",
              "        const docLinkHtml = 'Like what you see? Visit the ' +\n",
              "          '<a target=\"_blank\" href=https://colab.research.google.com/notebooks/data_table.ipynb>data table notebook</a>'\n",
              "          + ' to learn more about interactive tables.';\n",
              "        element.innerHTML = '';\n",
              "        dataTable['output_type'] = 'display_data';\n",
              "        await google.colab.output.renderOutput(dataTable, element);\n",
              "        const docLink = document.createElement('div');\n",
              "        docLink.innerHTML = docLinkHtml;\n",
              "        element.appendChild(docLink);\n",
              "      }\n",
              "    </script>\n",
              "  </div>\n",
              "\n",
              "\n",
              "<div id=\"df-d996c0db-ac18-4e41-8b40-2666d318ca91\">\n",
              "  <button class=\"colab-df-quickchart\" onclick=\"quickchart('df-d996c0db-ac18-4e41-8b40-2666d318ca91')\"\n",
              "            title=\"Suggest charts\"\n",
              "            style=\"display:none;\">\n",
              "\n",
              "<svg xmlns=\"http://www.w3.org/2000/svg\" height=\"24px\"viewBox=\"0 0 24 24\"\n",
              "     width=\"24px\">\n",
              "    <g>\n",
              "        <path d=\"M19 3H5c-1.1 0-2 .9-2 2v14c0 1.1.9 2 2 2h14c1.1 0 2-.9 2-2V5c0-1.1-.9-2-2-2zM9 17H7v-7h2v7zm4 0h-2V7h2v10zm4 0h-2v-4h2v4z\"/>\n",
              "    </g>\n",
              "</svg>\n",
              "  </button>\n",
              "\n",
              "<style>\n",
              "  .colab-df-quickchart {\n",
              "      --bg-color: #E8F0FE;\n",
              "      --fill-color: #1967D2;\n",
              "      --hover-bg-color: #E2EBFA;\n",
              "      --hover-fill-color: #174EA6;\n",
              "      --disabled-fill-color: #AAA;\n",
              "      --disabled-bg-color: #DDD;\n",
              "  }\n",
              "\n",
              "  [theme=dark] .colab-df-quickchart {\n",
              "      --bg-color: #3B4455;\n",
              "      --fill-color: #D2E3FC;\n",
              "      --hover-bg-color: #434B5C;\n",
              "      --hover-fill-color: #FFFFFF;\n",
              "      --disabled-bg-color: #3B4455;\n",
              "      --disabled-fill-color: #666;\n",
              "  }\n",
              "\n",
              "  .colab-df-quickchart {\n",
              "    background-color: var(--bg-color);\n",
              "    border: none;\n",
              "    border-radius: 50%;\n",
              "    cursor: pointer;\n",
              "    display: none;\n",
              "    fill: var(--fill-color);\n",
              "    height: 32px;\n",
              "    padding: 0;\n",
              "    width: 32px;\n",
              "  }\n",
              "\n",
              "  .colab-df-quickchart:hover {\n",
              "    background-color: var(--hover-bg-color);\n",
              "    box-shadow: 0 1px 2px rgba(60, 64, 67, 0.3), 0 1px 3px 1px rgba(60, 64, 67, 0.15);\n",
              "    fill: var(--button-hover-fill-color);\n",
              "  }\n",
              "\n",
              "  .colab-df-quickchart-complete:disabled,\n",
              "  .colab-df-quickchart-complete:disabled:hover {\n",
              "    background-color: var(--disabled-bg-color);\n",
              "    fill: var(--disabled-fill-color);\n",
              "    box-shadow: none;\n",
              "  }\n",
              "\n",
              "  .colab-df-spinner {\n",
              "    border: 2px solid var(--fill-color);\n",
              "    border-color: transparent;\n",
              "    border-bottom-color: var(--fill-color);\n",
              "    animation:\n",
              "      spin 1s steps(1) infinite;\n",
              "  }\n",
              "\n",
              "  @keyframes spin {\n",
              "    0% {\n",
              "      border-color: transparent;\n",
              "      border-bottom-color: var(--fill-color);\n",
              "      border-left-color: var(--fill-color);\n",
              "    }\n",
              "    20% {\n",
              "      border-color: transparent;\n",
              "      border-left-color: var(--fill-color);\n",
              "      border-top-color: var(--fill-color);\n",
              "    }\n",
              "    30% {\n",
              "      border-color: transparent;\n",
              "      border-left-color: var(--fill-color);\n",
              "      border-top-color: var(--fill-color);\n",
              "      border-right-color: var(--fill-color);\n",
              "    }\n",
              "    40% {\n",
              "      border-color: transparent;\n",
              "      border-right-color: var(--fill-color);\n",
              "      border-top-color: var(--fill-color);\n",
              "    }\n",
              "    60% {\n",
              "      border-color: transparent;\n",
              "      border-right-color: var(--fill-color);\n",
              "    }\n",
              "    80% {\n",
              "      border-color: transparent;\n",
              "      border-right-color: var(--fill-color);\n",
              "      border-bottom-color: var(--fill-color);\n",
              "    }\n",
              "    90% {\n",
              "      border-color: transparent;\n",
              "      border-bottom-color: var(--fill-color);\n",
              "    }\n",
              "  }\n",
              "</style>\n",
              "\n",
              "  <script>\n",
              "    async function quickchart(key) {\n",
              "      const quickchartButtonEl =\n",
              "        document.querySelector('#' + key + ' button');\n",
              "      quickchartButtonEl.disabled = true;  // To prevent multiple clicks.\n",
              "      quickchartButtonEl.classList.add('colab-df-spinner');\n",
              "      try {\n",
              "        const charts = await google.colab.kernel.invokeFunction(\n",
              "            'suggestCharts', [key], {});\n",
              "      } catch (error) {\n",
              "        console.error('Error during call to suggestCharts:', error);\n",
              "      }\n",
              "      quickchartButtonEl.classList.remove('colab-df-spinner');\n",
              "      quickchartButtonEl.classList.add('colab-df-quickchart-complete');\n",
              "    }\n",
              "    (() => {\n",
              "      let quickchartButtonEl =\n",
              "        document.querySelector('#df-d996c0db-ac18-4e41-8b40-2666d318ca91 button');\n",
              "      quickchartButtonEl.style.display =\n",
              "        google.colab.kernel.accessAllowed ? 'block' : 'none';\n",
              "    })();\n",
              "  </script>\n",
              "</div>\n",
              "    </div>\n",
              "  </div>\n"
            ],
            "application/vnd.google.colaboratory.intrinsic+json": {
              "type": "dataframe",
              "summary": "{\n  \"name\": \"df\",\n  \"rows\": 8,\n  \"fields\": [\n    {\n      \"column\": \"Battery Capacity (mAh)\",\n      \"properties\": {\n        \"dtype\": \"number\",\n        \"std\": 2340.3153392373297,\n        \"min\": 407.0,\n        \"max\": 7000.0,\n        \"num_unique_values\": 7,\n        \"samples\": [\n          407.0,\n          4676.4766584766585,\n          5000.0\n        ],\n        \"semantic_type\": \"\",\n        \"description\": \"\"\n      }\n    }\n  ]\n}"
            }
          },
          "metadata": {},
          "execution_count": 51
        }
      ],
      "source": [
        "df.describe()"
      ]
    },
    {
      "cell_type": "markdown",
      "metadata": {
        "id": "q_OSzaKKV28E"
      },
      "source": [
        "Dari describe data informasi statistik deskriptif menghasilkan output yang memberikan wawasan tentang distribusi Kapasitas Baterai pada data smartphone yang ada. Pada output diatas hanya menampilkan kolom battery capacity dikarenakan tipe datanya integer, sedangkan kolom yang lain masih bertipe data object. untuk penjelasan tiap kolom diatas dapat dilihat dibawah ini:\n",
        "1. count: 407.000000 - Menunjukkan bahwa terdapat 407 nilai yang tidak kosong (non-null) pada kolom tersebut.\n",
        "2. mean: 4676.476658 - Merupakan rata-rata Kapasitas Baterai, yaitu sekitar 4676 mAh.\n",
        "3. std: 797.193713 - Merupakan standar deviasi, yang mengukur seberapa jauh Kapasitas Baterai tersebar dari rata-rata. Semakin tinggi standar deviasi, semakin besar variasi Kapasitas Baterai.\n",
        "4. Min: 1821.000000 - Merupakan Kapasitas Baterai minimum, yaitu 1821 mAh.\n",
        "5. 25%: 4300.000000 - Merupakan kuartil pertama, juga dikenal sebagai nilai Q1. Ini mewakili nilai di bawah 25% Kapasitas Baterai.\n",
        "6. 50%: 5000.000000 - Merupakan median atau kuartil kedua (Q2). Ini mewakili nilai tengah ketika Kapasitas Baterai diurutkan dari terendah ke tertinggi.\n",
        "7. 75%: 5000.000000 - Merupakan kuartil ketiga (Q3). Ini mewakili nilai di bawah 75% Kapasitas Baterai.\n",
        "8. Max: 7000.000000 - Merupakan Kapasitas Baterai maksimum, yaitu 7000 mAh."
      ]
    },
    {
      "cell_type": "markdown",
      "metadata": {
        "id": "YVd8wfBkV9OE"
      },
      "source": [
        "##**Exploratory Data Analysis**"
      ]
    },
    {
      "cell_type": "code",
      "execution_count": null,
      "metadata": {
        "colab": {
          "base_uri": "https://localhost:8080/",
          "height": 472
        },
        "id": "_ohZShs2Wv9r",
        "outputId": "f6d6fc76-46e5-451a-d8d2-5bb522c32af9"
      },
      "outputs": [
        {
          "output_type": "display_data",
          "data": {
            "text/plain": [
              "<Figure size 640x480 with 1 Axes>"
            ],
            "image/png": "[encoded data removed]"
          },
          "metadata": {}
        }
      ],
      "source": [
        "import matplotlib.pyplot as plt\n",
        "\n",
        "# Hitung jumlah HP untuk setiap brand\n",
        "brand_counts = df['Brand'].value_counts()\n",
        "\n",
        "# Temukan jumlah HP paling tinggi\n",
        "max_count = brand_counts.max()\n",
        "\n",
        "# Buat bar chart vertikal\n",
        "plt.barh(brand_counts.index, brand_counts, color=\"gray\")\n",
        "\n",
        "# Set warna untuk bar dengan jumlah HP paling tinggi\n",
        "for i, count in enumerate(brand_counts):\n",
        "    if count == max_count:\n",
        "        plt.barh(i, count, color='red')\n",
        "plt.xlabel('Jumlah HP')\n",
        "plt.ylabel('Brand')\n",
        "plt.title('Jumlah HP per Brand')\n",
        "plt.show()"
      ]
    },
    {
      "cell_type": "markdown",
      "metadata": {
        "id": "s90ygAoyV_rC"
      },
      "source": [
        "Dari hasil visualisasi diatas dapat disimpulkan bahwa brand HP Samsung memiliki jumlah unit yang paling banyak dari brand lainnya.\n",
        "\n"
      ]
    },
    {
      "cell_type": "markdown",
      "metadata": {
        "id": "BqwrKc6WXFpz"
      },
      "source": [
        "##**Verify Data Quality**"
      ]
    },
    {
      "cell_type": "markdown",
      "metadata": {
        "id": "JrPhpE3VXTMR"
      },
      "source": [
        "####Missing Values"
      ]
    },
    {
      "cell_type": "code",
      "execution_count": null,
      "metadata": {
        "colab": {
          "base_uri": "https://localhost:8080/"
        },
        "id": "iq2vTmQJXhuj",
        "outputId": "398758fb-8128-49b2-89f6-69fc679b99ee"
      },
      "outputs": [
        {
          "output_type": "execute_result",
          "data": {
            "text/plain": [
              "Brand                     0\n",
              "Model                     0\n",
              "Storage                   0\n",
              "RAM                       0\n",
              "Screen Size (inches)      0\n",
              "Camera (MP)               0\n",
              "Battery Capacity (mAh)    0\n",
              "Price ($)                 0\n",
              "dtype: int64"
            ]
          },
          "metadata": {},
          "execution_count": 53
        }
      ],
      "source": [
        "df.isna().sum()"
      ]
    },
    {
      "cell_type": "markdown",
      "metadata": {
        "id": "2qJ5hwEqXoLo"
      },
      "source": [
        "Dari hasil codingan diatas dapat dilihat bahwa tidak terdapat nilai yang kosong dari masing-masing kolom pada data tersebut.\n"
      ]
    },
    {
      "cell_type": "markdown",
      "metadata": {
        "id": "jEeCU-vVXV84"
      },
      "source": [
        "####Outliers Values"
      ]
    },
    {
      "cell_type": "code",
      "execution_count": null,
      "metadata": {
        "colab": {
          "base_uri": "https://localhost:8080/"
        },
        "id": "HGiqZ6aOX6HY",
        "outputId": "0ac03449-5aff-4b63-df54-095336efac66"
      },
      "outputs": [
        {
          "output_type": "stream",
          "name": "stdout",
          "text": [
            "Outliers dalam kolom 'Battery Capacity (mAh)':\n",
            "0      3095\n",
            "5      2815\n",
            "13     2227\n",
            "25     3110\n",
            "32     1821\n",
            "39     2942\n",
            "45     2227\n",
            "62     1821\n",
            "68     2942\n",
            "74     3110\n",
            "77     2815\n",
            "90     3000\n",
            "208    7000\n",
            "289    1821\n",
            "305    2815\n",
            "308    2942\n",
            "315    2800\n",
            "318    2815\n",
            "326    3110\n",
            "333    1821\n",
            "334    7000\n",
            "338    3174\n",
            "347    2691\n",
            "355    2942\n",
            "369    2227\n",
            "379    1821\n",
            "384    2815\n",
            "388    3110\n",
            "396    2942\n",
            "Name: Battery Capacity (mAh), dtype: int64\n"
          ]
        }
      ],
      "source": [
        "def detect_outliers(column):\n",
        "    Q1 = column.quantile(0.25)\n",
        "    Q3 = column.quantile(0.75)\n",
        "    IQR = Q3 - Q1\n",
        "    lower_bound = Q1 - 1.5 * IQR\n",
        "    upper_bound = Q3 + 1.5 * IQR\n",
        "    outliers = column[(column < lower_bound) | (column > upper_bound)]\n",
        "    return outliers\n",
        "\n",
        "# Mengecek outliers untuk setiap kolom numerik\n",
        "for column in df.select_dtypes(include=['int64', 'float64']).columns:\n",
        "    outliers = detect_outliers(df[column])\n",
        "    if not outliers.empty:\n",
        "        print(f\"Outliers dalam kolom '{column}':\")\n",
        "        print(outliers)\n",
        "    else:\n",
        "        print(f\"Tidak ada outliers dalam kolom '{column}'\")"
      ]
    },
    {
      "cell_type": "markdown",
      "metadata": {
        "id": "ggn0R2wCXuSC"
      },
      "source": [
        "Dari hasil output diatas dapat disimpulkan bahwa terdapat outlier pada kolom battery capacity. Output diatas baru bisa menampilkan 1 kolom saja yang memiliki outlier dikarenakan kolom-kolom lain masih bertipe data object jadi codingan tersebut belum bisa mendeteksi outlier pada kolom lain."
      ]
    },
    {
      "cell_type": "markdown",
      "metadata": {
        "id": "vWjwGwZaXaod"
      },
      "source": [
        "####Duplicated Values"
      ]
    },
    {
      "cell_type": "code",
      "execution_count": null,
      "metadata": {
        "colab": {
          "base_uri": "https://localhost:8080/"
        },
        "id": "7wcta1dbX8l3",
        "outputId": "9839a5cf-ed4f-4a8d-8fd6-83d33506b397"
      },
      "outputs": [
        {
          "output_type": "execute_result",
          "data": {
            "text/plain": [
              "0      False\n",
              "1      False\n",
              "2      False\n",
              "3      False\n",
              "4      False\n",
              "       ...  \n",
              "402    False\n",
              "403    False\n",
              "404    False\n",
              "405    False\n",
              "406     True\n",
              "Length: 407, dtype: bool"
            ]
          },
          "metadata": {},
          "execution_count": 63
        }
      ],
      "source": [
        "df.duplicated()"
      ]
    },
    {
      "cell_type": "markdown",
      "metadata": {
        "id": "VKTUrMJAX0fv"
      },
      "source": [
        "Dari hasil codingan diatas menunjukkan bahwa terdapat 406 baris dalam DataFrame yang bukan duplikat.\n",
        "Tetapi terdapat 1 baris duplikat dalam DataFrame, yaitu pada baris terakhir."
      ]
    },
    {
      "cell_type": "markdown",
      "metadata": {
        "id": "q0_lULWDX-y6"
      },
      "source": [
        "####Inconsistent Values / Noise (Optional)"
      ]
    },
    {
      "cell_type": "code",
      "execution_count": null,
      "metadata": {
        "colab": {
          "base_uri": "https://localhost:8080/"
        },
        "id": "cnvHMqE3YawE",
        "outputId": "1fdb13b3-caca-4b5b-80eb-e6cefefbdd72"
      },
      "outputs": [
        {
          "output_type": "stream",
          "name": "stdout",
          "text": [
            "Kolom 'Brand':\n",
            "Jumlah Nilai Unik: 16\n",
            "\n",
            "Kolom 'Model':\n",
            "Jumlah Nilai Unik: 239\n",
            "\n",
            "Kolom 'Storage ':\n",
            "Jumlah Nilai Unik: 13\n",
            "\n",
            "Kolom 'RAM ':\n",
            "Jumlah Nilai Unik: 20\n",
            "\n",
            "Kolom 'Screen Size (inches)':\n",
            "Jumlah Nilai Unik: 41\n",
            "\n",
            "Kolom 'Camera (MP)':\n",
            "Jumlah Nilai Unik: 143\n",
            "\n",
            "Kolom 'Battery Capacity (mAh)':\n",
            "Jumlah Nilai Unik: 48\n",
            "\n",
            "Kolom 'Price ($)':\n",
            "Jumlah Nilai Unik: 89\n",
            "\n"
          ]
        }
      ],
      "source": [
        "for column in df.columns:\n",
        "  print(f\"Kolom '{column}':\")\n",
        "\n",
        "  unique_values_count = len(df[column].unique())\n",
        "\n",
        "  print(f\"Jumlah Nilai Unik: {unique_values_count}\")\n",
        "  print()\n"
      ]
    },
    {
      "cell_type": "markdown",
      "metadata": {
        "id": "zN9xijkWYhq2"
      },
      "source": [
        "Pada informasi diatas, dijelaskan tentang jumlah unit dalam setiap kolom dari dataset.\n",
        "\n",
        "\n",
        "*   Kolom Brand: Terdapat nilai 16 unik dalam kolom ini, yang berarti terdapat variasi merk-merk HP dari masing-masing Brand.\n",
        "*   Kolom Model: Terdapat nilai 239 unik dalam kolom ini, yang berarti terdapat variasi model-model HP.\n",
        "*  Kolom Storage: Terdapat nilai 13 unik dalam kolom ini, yang berarti terdapat variasi penyimpanan-penyimpanan pada HP.\n",
        "*   Kolom RAM: Terdapat nilai 20 unik dalam kolom ini, yang berarti terdapat variasi internal RAM HP.    \n",
        "*   Kolom Screen Size: Terdapat nilai 41 unik dalam kolom ini, yang berarti terdapat variasi Layar inch HP.\n",
        "*   Kolom Camera: terdapat nilai 143 unik  dalam kolom ini, yang berarti terdapat variasi kamera HP berdasarkan Megapixelnya.\n",
        "*   Kolom Battery Capacity: Terdapat nilai 48 unik dalam kolom ini, yang berarti terdapat variasi kapasitas baterai HP.\n",
        "*   Kolom Price: Terdapat nilai 89 unik dalam kolom ini, yang berarti terdapat variasi Harga HP.\n",
        "\n",
        "\n",
        "\n",
        "\n",
        "\n",
        "\n",
        "\n"
      ]
    }
  ],
  "metadata": {
    "colab": {
      "provenance": [],
      "include_colab_link": true
    },
    "kernelspec": {
      "display_name": "Python 3",
      "name": "python3"
    },
    "language_info": {
      "name": "python"
    }
  },
  "nbformat": 4,
  "nbformat_minor": 0
}